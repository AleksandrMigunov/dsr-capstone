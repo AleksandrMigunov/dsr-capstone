{
 "cells": [
  {
   "cell_type": "markdown",
   "metadata": {},
   "source": [
    "<a href=\"https://cognitiveclass.ai/?utm_medium=Exinfluencer&utm_source=Exinfluencer&utm_content=000026UJ&utm_term=10006555&utm_id=NA-SkillsNetwork-Channel-SkillsNetworkCoursesIBMDeveloperSkillsNetworkRP0321ENSkillsNetwork25371262-2021-01-01\">\n",
    "    <img src=\"https://cf-courses-data.s3.us.cloud-object-storage.appdomain.cloud/IBMDeveloperSkillsNetwork-RP0101EN-Coursera/v2/M1_R_Basics/images/IDSNlogo.png\" width=\"200\" align=\"center\">\n",
    "</a>\n"
   ]
  },
  {
   "cell_type": "markdown",
   "metadata": {},
   "source": [
    "<h1>OpenWeather APIs Calls</h1>\n",
    "\n",
    "Estimated time needed: **40** minutes\n"
   ]
  },
  {
   "cell_type": "markdown",
   "metadata": {},
   "source": [
    "## Lab Overview:\n",
    "\n",
    "In this lab, you will be collecting real-time current and forecasted weather data for cities using the **OpenWeather API**. It can give you current weather data for any location including over 200,000 cities and 5 day forecasts for free (with limited API usage). You just need to use HTTP requests to call those weather APIs and get the weather data.\n",
    "\n",
    "You will be given instructions to set up a free OpenWeather API account with an API key for authentication. Then, you will be shown, with code examples, how to get the current weather for a given city. After you are familiar with OpenWeather API, you will be asked to get 5-day forecast data for a list of cities.\n"
   ]
  },
  {
   "cell_type": "markdown",
   "metadata": {},
   "source": [
    "## Setup OpenWeather API account\n"
   ]
  },
  {
   "cell_type": "markdown",
   "metadata": {},
   "source": [
    "You can create an OpenWeather API account [here](https://home.openweathermap.org/users/sign_up?utm_medium=Exinfluencer&utm_source=Exinfluencer&utm_content=000026UJ&utm_term=10006555&utm_id=NA-SkillsNetwork-Channel-SkillsNetworkCoursesIBMDeveloperSkillsNetworkRP0321ENSkillsNetwork25371262-2021-01-01). After your account has been created and verified, you can go to Account -> My API Keys:\n"
   ]
  },
  {
   "cell_type": "markdown",
   "metadata": {},
   "source": [
    "<a href=\"https://cognitiveclass.ai/?utm_medium=Exinfluencer&utm_source=Exinfluencer&utm_content=000026UJ&utm_term=10006555&utm_id=NA-SkillsNetwork-Channel-SkillsNetworkCoursesIBMDeveloperSkillsNetworkRP0321ENSkillsNetwork25371262-2021-01-01\">\n",
    "    <img src=\"https://cf-courses-data.s3.us.cloud-object-storage.appdomain.cloud/IBMDeveloperSkillsNetwork-RP0321EN-SkillsNetwork/labs/module_1/images/l2-openweather-apikey.png\" width=\"400\" align=\"center\">\n",
    "</a>\n"
   ]
  },
  {
   "cell_type": "markdown",
   "metadata": {},
   "source": [
    "and find your API key here:\n"
   ]
  },
  {
   "cell_type": "markdown",
   "metadata": {},
   "source": [
    "<a href=\"https://cognitiveclass.ai/?utm_medium=Exinfluencer&utm_source=Exinfluencer&utm_content=000026UJ&utm_term=10006555&utm_id=NA-SkillsNetwork-Channel-SkillsNetworkCoursesIBMDeveloperSkillsNetworkRP0321ENSkillsNetwork25371262-2021-01-01\">\n",
    "    <img src=\"https://cf-courses-data.s3.us.cloud-object-storage.appdomain.cloud/IBMDeveloperSkillsNetwork-RP0321EN-SkillsNetwork/labs/module_1/images/l2-openweather-apikey-value.png\" width=\"400\" align=\"center\">\n",
    "</a>\n"
   ]
  },
  {
   "cell_type": "markdown",
   "metadata": {},
   "source": [
    "Now mark down your generated API key, which will be used to authenticate your HTTP requests to OpenWeather API.\n",
    "\n",
    "Note that a new API key may take some time to be activated. You may quickly try the following URL using a web browser.\n",
    "\n",
    "With the `{your_api_key}` URL parameter replaced by your own API key and go to the following URL:\n",
    "\n",
    "[https://api.openweathermap.org/data/2.5/weather?q=Seoul\\&appid={your_api_key}](https://api.openweathermap.org/data/2.5/weather?utm_medium=Exinfluencer&utm_source=Exinfluencer&utm_content=000026UJ&utm_term=10006555&utm_id=NA-SkillsNetwork-Channel-SkillsNetworkCoursesIBMDeveloperSkillsNetworkRP0321ENSkillsNetwork25371262-2021-01-01&q=Seoul&appid=%7Byour_api_key%7D)\n"
   ]
  },
  {
   "cell_type": "markdown",
   "metadata": {},
   "source": [
    "until you see some weather data returned (instead of 401 or other error status), similar to the following JSON result:\n",
    "\n",
    "```\n",
    "{\"coord\":{\"lon\":126.9778,\"lat\":37.5683},\n",
    "\"weather\":[{\"id\":800,\"main\":\"Clear\",\"description\":\"clear sky\",\"icon\":\"01n\"}],\n",
    "\"base\":\"stations\",\n",
    "\"main\":{\"temp\":285.16,\"feels_like\":284.04,\"temp_min\":284.15,\"temp_max\":287.15,\"pressure\":1020,\"humidity\":62},\n",
    "\"visibility\":10000,\n",
    "\"wind\":{\"speed\":1.03,\"deg\":220},\"clouds\":{\"all\":0},\"dt\":1617718307,\"sys\":{\"type\":1,\"id\":8105,\"country\":\"KR\",\"sunrise\":1617657021,\"sunset\":1617703103},\"timezone\":32400,\"id\":1835848,\"name\":\"Seoul\",\"cod\":200}\n",
    "```\n"
   ]
  },
  {
   "cell_type": "markdown",
   "metadata": {},
   "source": [
    "## Coding Practice: Get the current weather data for a city using OpenWeather API\n"
   ]
  },
  {
   "cell_type": "markdown",
   "metadata": {},
   "source": [
    "First import `httr` library\n"
   ]
  },
  {
   "cell_type": "code",
   "execution_count": 1,
   "metadata": {},
   "outputs": [
    {
     "name": "stderr",
     "output_type": "stream",
     "text": [
      "Loading required package: httr\n",
      "\n"
     ]
    }
   ],
   "source": [
    "# Check if need to install rvest` library\n",
    "require(\"httr\")\n",
    "\n",
    "library(httr)"
   ]
  },
  {
   "cell_type": "markdown",
   "metadata": {},
   "source": [
    "The API base URL to get current weather is [https://api.openweathermap.org/data/2.5/weather](https://api.openweathermap.org/data/2.5/weather?utm_medium=Exinfluencer&utm_source=Exinfluencer&utm_content=000026UJ&utm_term=10006555&utm_id=NA-SkillsNetwork-Channel-SkillsNetworkCoursesIBMDeveloperSkillsNetworkRP0321ENSkillsNetwork25371262-2021-01-01)\n"
   ]
  },
  {
   "cell_type": "code",
   "execution_count": 2,
   "metadata": {},
   "outputs": [],
   "source": [
    "# URL for Current Weather API\n",
    "current_weather_url <- 'https://api.openweathermap.org/data/2.5/weather'"
   ]
  },
  {
   "cell_type": "markdown",
   "metadata": {},
   "source": [
    "Next, let's create a list to hold URL parameters for current weather API\n"
   ]
  },
  {
   "cell_type": "code",
   "execution_count": 3,
   "metadata": {},
   "outputs": [],
   "source": [
    "# need to be replaced by your real API key\n",
    "your_api_key <- \"147101b3239a9289dc17ee40f789b7b8\"\n",
    "# Input `q` is the city name\n",
    "# Input `appid` is your API KEY, \n",
    "# Input `units` are preferred units such as Metric or Imperial\n",
    "current_query <- list(q = \"Seoul\", appid = your_api_key, units=\"metric\")"
   ]
  },
  {
   "cell_type": "markdown",
   "metadata": {},
   "source": [
    "Now we can make a HTTP request to the current weather API\n"
   ]
  },
  {
   "cell_type": "code",
   "execution_count": 4,
   "metadata": {},
   "outputs": [],
   "source": [
    "response <- GET(current_weather_url, query=current_query)"
   ]
  },
  {
   "cell_type": "markdown",
   "metadata": {},
   "source": [
    "If we check the response type, we can see it is in JSON format\n"
   ]
  },
  {
   "cell_type": "code",
   "execution_count": 5,
   "metadata": {},
   "outputs": [
    {
     "data": {
      "text/html": [
       "'application/json'"
      ],
      "text/latex": [
       "'application/json'"
      ],
      "text/markdown": [
       "'application/json'"
      ],
      "text/plain": [
       "[1] \"application/json\""
      ]
     },
     "metadata": {},
     "output_type": "display_data"
    }
   ],
   "source": [
    "http_type(response)"
   ]
  },
  {
   "cell_type": "markdown",
   "metadata": {},
   "source": [
    "JSON is an open standard file and data interchange format that uses human-readable text to store and transmit data objects. To read the JSON HTTP response, you can use the `content()` function to parse it as a named list in R.\n"
   ]
  },
  {
   "cell_type": "code",
   "execution_count": 6,
   "metadata": {},
   "outputs": [],
   "source": [
    "json_result <- content(response, as=\"parsed\")"
   ]
  },
  {
   "cell_type": "markdown",
   "metadata": {},
   "source": [
    "If you use the `class()` function, you can see it is a R `List` object\n"
   ]
  },
  {
   "cell_type": "code",
   "execution_count": 7,
   "metadata": {},
   "outputs": [
    {
     "data": {
      "text/html": [
       "'list'"
      ],
      "text/latex": [
       "'list'"
      ],
      "text/markdown": [
       "'list'"
      ],
      "text/plain": [
       "[1] \"list\""
      ]
     },
     "metadata": {},
     "output_type": "display_data"
    }
   ],
   "source": [
    "class(json_result)"
   ]
  },
  {
   "cell_type": "markdown",
   "metadata": {},
   "source": [
    "Now let's print the JSON result.\n"
   ]
  },
  {
   "cell_type": "code",
   "execution_count": 8,
   "metadata": {},
   "outputs": [
    {
     "data": {
      "text/html": [
       "<dl>\n",
       "\t<dt>$coord</dt>\n",
       "\t\t<dd><dl>\n",
       "\t<dt>$lon</dt>\n",
       "\t\t<dd>126.9778</dd>\n",
       "\t<dt>$lat</dt>\n",
       "\t\t<dd>37.5683</dd>\n",
       "</dl>\n",
       "</dd>\n",
       "\t<dt>$weather</dt>\n",
       "\t\t<dd><ol>\n",
       "\t<li><dl>\n",
       "\t<dt>$id</dt>\n",
       "\t\t<dd>800</dd>\n",
       "\t<dt>$main</dt>\n",
       "\t\t<dd>'Clear'</dd>\n",
       "\t<dt>$description</dt>\n",
       "\t\t<dd>'clear sky'</dd>\n",
       "\t<dt>$icon</dt>\n",
       "\t\t<dd>'01d'</dd>\n",
       "</dl>\n",
       "</li>\n",
       "</ol>\n",
       "</dd>\n",
       "\t<dt>$base</dt>\n",
       "\t\t<dd>'stations'</dd>\n",
       "\t<dt>$main</dt>\n",
       "\t\t<dd><dl>\n",
       "\t<dt>$temp</dt>\n",
       "\t\t<dd>-10.56</dd>\n",
       "\t<dt>$feels_like</dt>\n",
       "\t\t<dd>-10.56</dd>\n",
       "\t<dt>$temp_min</dt>\n",
       "\t\t<dd>-11.77</dd>\n",
       "\t<dt>$temp_max</dt>\n",
       "\t\t<dd>-8.31</dd>\n",
       "\t<dt>$pressure</dt>\n",
       "\t\t<dd>1029</dd>\n",
       "\t<dt>$humidity</dt>\n",
       "\t\t<dd>79</dd>\n",
       "</dl>\n",
       "</dd>\n",
       "\t<dt>$visibility</dt>\n",
       "\t\t<dd>10000</dd>\n",
       "\t<dt>$wind</dt>\n",
       "\t\t<dd><dl>\n",
       "\t<dt>$speed</dt>\n",
       "\t\t<dd>1.03</dd>\n",
       "\t<dt>$deg</dt>\n",
       "\t\t<dd>350</dd>\n",
       "</dl>\n",
       "</dd>\n",
       "\t<dt>$clouds</dt>\n",
       "\t\t<dd><strong>$all</strong> = 0</dd>\n",
       "\t<dt>$dt</dt>\n",
       "\t\t<dd>1644188051</dd>\n",
       "\t<dt>$sys</dt>\n",
       "\t\t<dd><dl>\n",
       "\t<dt>$type</dt>\n",
       "\t\t<dd>1</dd>\n",
       "\t<dt>$id</dt>\n",
       "\t\t<dd>8105</dd>\n",
       "\t<dt>$country</dt>\n",
       "\t\t<dd>'KR'</dd>\n",
       "\t<dt>$sunrise</dt>\n",
       "\t\t<dd>1644186649</dd>\n",
       "\t<dt>$sunset</dt>\n",
       "\t\t<dd>1644224498</dd>\n",
       "</dl>\n",
       "</dd>\n",
       "\t<dt>$timezone</dt>\n",
       "\t\t<dd>32400</dd>\n",
       "\t<dt>$id</dt>\n",
       "\t\t<dd>1835848</dd>\n",
       "\t<dt>$name</dt>\n",
       "\t\t<dd>'Seoul'</dd>\n",
       "\t<dt>$cod</dt>\n",
       "\t\t<dd>200</dd>\n",
       "</dl>\n"
      ],
      "text/latex": [
       "\\begin{description}\n",
       "\\item[\\$coord] \\begin{description}\n",
       "\\item[\\$lon] 126.9778\n",
       "\\item[\\$lat] 37.5683\n",
       "\\end{description}\n",
       "\n",
       "\\item[\\$weather] \\begin{enumerate}\n",
       "\\item \\begin{description}\n",
       "\\item[\\$id] 800\n",
       "\\item[\\$main] 'Clear'\n",
       "\\item[\\$description] 'clear sky'\n",
       "\\item[\\$icon] '01d'\n",
       "\\end{description}\n",
       "\n",
       "\\end{enumerate}\n",
       "\n",
       "\\item[\\$base] 'stations'\n",
       "\\item[\\$main] \\begin{description}\n",
       "\\item[\\$temp] -10.56\n",
       "\\item[\\$feels\\_like] -10.56\n",
       "\\item[\\$temp\\_min] -11.77\n",
       "\\item[\\$temp\\_max] -8.31\n",
       "\\item[\\$pressure] 1029\n",
       "\\item[\\$humidity] 79\n",
       "\\end{description}\n",
       "\n",
       "\\item[\\$visibility] 10000\n",
       "\\item[\\$wind] \\begin{description}\n",
       "\\item[\\$speed] 1.03\n",
       "\\item[\\$deg] 350\n",
       "\\end{description}\n",
       "\n",
       "\\item[\\$clouds] \\textbf{\\$all} = 0\n",
       "\\item[\\$dt] 1644188051\n",
       "\\item[\\$sys] \\begin{description}\n",
       "\\item[\\$type] 1\n",
       "\\item[\\$id] 8105\n",
       "\\item[\\$country] 'KR'\n",
       "\\item[\\$sunrise] 1644186649\n",
       "\\item[\\$sunset] 1644224498\n",
       "\\end{description}\n",
       "\n",
       "\\item[\\$timezone] 32400\n",
       "\\item[\\$id] 1835848\n",
       "\\item[\\$name] 'Seoul'\n",
       "\\item[\\$cod] 200\n",
       "\\end{description}\n"
      ],
      "text/markdown": [
       "$coord\n",
       ":   $lon\n",
       ":   126.9778\n",
       "$lat\n",
       ":   37.5683\n",
       "\n",
       "\n",
       "\n",
       "$weather\n",
       ":   1. $id\n",
       ":   800\n",
       "$main\n",
       ":   'Clear'\n",
       "$description\n",
       ":   'clear sky'\n",
       "$icon\n",
       ":   '01d'\n",
       "\n",
       "\n",
       "\n",
       "\n",
       "\n",
       "\n",
       "$base\n",
       ":   'stations'\n",
       "$main\n",
       ":   $temp\n",
       ":   -10.56\n",
       "$feels_like\n",
       ":   -10.56\n",
       "$temp_min\n",
       ":   -11.77\n",
       "$temp_max\n",
       ":   -8.31\n",
       "$pressure\n",
       ":   1029\n",
       "$humidity\n",
       ":   79\n",
       "\n",
       "\n",
       "\n",
       "$visibility\n",
       ":   10000\n",
       "$wind\n",
       ":   $speed\n",
       ":   1.03\n",
       "$deg\n",
       ":   350\n",
       "\n",
       "\n",
       "\n",
       "$clouds\n",
       ":   **$all** = 0\n",
       "$dt\n",
       ":   1644188051\n",
       "$sys\n",
       ":   $type\n",
       ":   1\n",
       "$id\n",
       ":   8105\n",
       "$country\n",
       ":   'KR'\n",
       "$sunrise\n",
       ":   1644186649\n",
       "$sunset\n",
       ":   1644224498\n",
       "\n",
       "\n",
       "\n",
       "$timezone\n",
       ":   32400\n",
       "$id\n",
       ":   1835848\n",
       "$name\n",
       ":   'Seoul'\n",
       "$cod\n",
       ":   200\n",
       "\n",
       "\n"
      ],
      "text/plain": [
       "$coord\n",
       "$coord$lon\n",
       "[1] 126.9778\n",
       "\n",
       "$coord$lat\n",
       "[1] 37.5683\n",
       "\n",
       "\n",
       "$weather\n",
       "$weather[[1]]\n",
       "$weather[[1]]$id\n",
       "[1] 800\n",
       "\n",
       "$weather[[1]]$main\n",
       "[1] \"Clear\"\n",
       "\n",
       "$weather[[1]]$description\n",
       "[1] \"clear sky\"\n",
       "\n",
       "$weather[[1]]$icon\n",
       "[1] \"01d\"\n",
       "\n",
       "\n",
       "\n",
       "$base\n",
       "[1] \"stations\"\n",
       "\n",
       "$main\n",
       "$main$temp\n",
       "[1] -10.56\n",
       "\n",
       "$main$feels_like\n",
       "[1] -10.56\n",
       "\n",
       "$main$temp_min\n",
       "[1] -11.77\n",
       "\n",
       "$main$temp_max\n",
       "[1] -8.31\n",
       "\n",
       "$main$pressure\n",
       "[1] 1029\n",
       "\n",
       "$main$humidity\n",
       "[1] 79\n",
       "\n",
       "\n",
       "$visibility\n",
       "[1] 10000\n",
       "\n",
       "$wind\n",
       "$wind$speed\n",
       "[1] 1.03\n",
       "\n",
       "$wind$deg\n",
       "[1] 350\n",
       "\n",
       "\n",
       "$clouds\n",
       "$clouds$all\n",
       "[1] 0\n",
       "\n",
       "\n",
       "$dt\n",
       "[1] 1644188051\n",
       "\n",
       "$sys\n",
       "$sys$type\n",
       "[1] 1\n",
       "\n",
       "$sys$id\n",
       "[1] 8105\n",
       "\n",
       "$sys$country\n",
       "[1] \"KR\"\n",
       "\n",
       "$sys$sunrise\n",
       "[1] 1644186649\n",
       "\n",
       "$sys$sunset\n",
       "[1] 1644224498\n",
       "\n",
       "\n",
       "$timezone\n",
       "[1] 32400\n",
       "\n",
       "$id\n",
       "[1] 1835848\n",
       "\n",
       "$name\n",
       "[1] \"Seoul\"\n",
       "\n",
       "$cod\n",
       "[1] 200\n"
      ]
     },
     "metadata": {},
     "output_type": "display_data"
    }
   ],
   "source": [
    "json_result"
   ]
  },
  {
   "cell_type": "markdown",
   "metadata": {},
   "source": [
    "It contains very detailed weather data about the city of `Seoul`. Feel free to try other cities as well. We need to convert the named list to a data frame so that we can use data frame operations to process the data. Below is a simple example, which you may implement your own way to convert it to a data frame.\n"
   ]
  },
  {
   "cell_type": "code",
   "execution_count": 9,
   "metadata": {},
   "outputs": [],
   "source": [
    "# Create some empty vectors to hold data temporarily\n",
    "weather <- c()\n",
    "visibility <- c()\n",
    "temp <- c()\n",
    "temp_min <- c()\n",
    "temp_max <- c()\n",
    "pressure <- c()\n",
    "humidity <- c()\n",
    "wind_speed <- c()\n",
    "wind_deg <- c()\n"
   ]
  },
  {
   "cell_type": "markdown",
   "metadata": {},
   "source": [
    "Now assign the values in the `json_result` list into different vectors\n"
   ]
  },
  {
   "cell_type": "code",
   "execution_count": 10,
   "metadata": {},
   "outputs": [],
   "source": [
    "# $weather is also a list with one element, its $main element indicates the weather status such as clear or rain\n",
    "weather <- c(weather, json_result$weather[[1]]$main)\n",
    "# Get Visibility\n",
    "visibility <- c(visibility, json_result$visibility)\n",
    "# Get current temperature \n",
    "temp <- c(temp, json_result$main$temp)\n",
    "# Get min temperature \n",
    "temp_min <- c(temp_min, json_result$main$temp_min)\n",
    "# Get max temperature \n",
    "temp_max <- c(temp_max, json_result$main$temp_max)\n",
    "# Get pressure\n",
    "pressure <- c(pressure, json_result$main$pressure)\n",
    "# Get humidity\n",
    "humidity <- c(humidity, json_result$main$humidity)\n",
    "# Get wind speed\n",
    "wind_speed <- c(wind_speed, json_result$wind$speed)\n",
    "# Get wind direction\n",
    "wind_deg <- c(wind_deg, json_result$wind$deg)\n"
   ]
  },
  {
   "cell_type": "markdown",
   "metadata": {},
   "source": [
    "Combine all vectors as columns of a data frame\n"
   ]
  },
  {
   "cell_type": "code",
   "execution_count": 11,
   "metadata": {},
   "outputs": [],
   "source": [
    "# Combine all vectors\n",
    "weather_data_frame <- data.frame(weather=weather, \n",
    "                                 visibility=visibility, \n",
    "                                 temp=temp, \n",
    "                                 temp_min=temp_min, \n",
    "                                 temp_max=temp_max, \n",
    "                                 pressure=pressure, \n",
    "                                 humidity=humidity, \n",
    "                                 wind_speed=wind_speed, \n",
    "                                 wind_deg=wind_deg)"
   ]
  },
  {
   "cell_type": "code",
   "execution_count": 12,
   "metadata": {},
   "outputs": [
    {
     "name": "stdout",
     "output_type": "stream",
     "text": [
      "  weather visibility   temp temp_min temp_max pressure humidity wind_speed\n",
      "1   Clear      10000 -10.56   -11.77    -8.31     1029       79       1.03\n",
      "  wind_deg\n",
      "1      350\n"
     ]
    }
   ],
   "source": [
    "# Check the generated data frame\n",
    "print(weather_data_frame)"
   ]
  },
  {
   "cell_type": "markdown",
   "metadata": {},
   "source": [
    "# TASK:  Get 5-day weather forecasts for a list of cities using the OpenWeather API\n"
   ]
  },
  {
   "cell_type": "markdown",
   "metadata": {},
   "source": [
    "Now you should be familiar with the usage of OpenWeather API. Next, you need to complete a task to get 5-day weather forecasts for a list of cities\n"
   ]
  },
  {
   "cell_type": "markdown",
   "metadata": {},
   "source": [
    "*TODO:* Write a function to return a data frame containing 5-day weather forecasts for a list of cities\n"
   ]
  },
  {
   "cell_type": "code",
   "execution_count": 13,
   "metadata": {},
   "outputs": [],
   "source": [
    "# Create some empty vectors to hold data temporarily\n",
    "\n",
    "# City name column\n",
    "city <- c()\n",
    "# Weather column, rainy or cloudy, etc\n",
    "weather <- c()\n",
    "# Sky visibility column\n",
    "visibility <- c()\n",
    "# Current temperature column\n",
    "temp <- c()\n",
    "# Max temperature column\n",
    "temp_min <- c()\n",
    "# Min temperature column\n",
    "temp_max <- c()\n",
    "# Pressure column\n",
    "pressure <- c()\n",
    "# Humidity column\n",
    "humidity <- c()\n",
    "# Wind speed column\n",
    "wind_speed <- c()\n",
    "# Wind direction column\n",
    "wind_deg <- c()\n",
    "# Forecast timestamp\n",
    "forecast_datetime <- c()\n",
    "# Season column\n",
    "# Note that for season, you can hard code a season value from levels Spring, Summer, Autumn, and Winter based on your current month.\n",
    "season <- c()\n"
   ]
  },
  {
   "cell_type": "code",
   "execution_count": 44,
   "metadata": {},
   "outputs": [],
   "source": [
    "# Get forecast data for a given city list\n",
    "get_weather_forecaset_by_cities <- function(city_names){\n",
    "    df <- data.frame()\n",
    "    for (city_name in city_names){\n",
    "        # Forecast API URL\n",
    "        forecast_url <- 'https://api.openweathermap.org/data/2.5/forecast'\n",
    "        # Create query parameters\n",
    "        forecast_query <- list(q = city_name, appid = \"147101b3239a9289dc17ee40f789b7b8\", units=\"metric\")\n",
    "        # Make HTTP GET call for the given city\n",
    "        response <- GET(forecast_url, query=forecast_query)\n",
    "        print(response)\n",
    "        # Note that the 5-day forecast JSON result is a list of lists. You can print the reponse to check the results\n",
    "        json_result <- content(response, as=\"parsed\")\n",
    "        results <- json_result$list\n",
    "#        print(results) ######\n",
    "        # Loop the json result\n",
    "        for(result in results) {\n",
    "            city <- c(city, city_name)\n",
    "            weather <- c(weather, result$weather[[1]]$main)\n",
    "            visibility <- c(visibility, result$visibility)\n",
    "            temp <- c(temp, result$main$temp)\n",
    "            temp_min <- c(temp_min, result$main$temp_min)\n",
    "            temp_max <- c(temp_max, result$main$temp_max)\n",
    "            pressure <- c(pressure, result$main$pressure)\n",
    "            humidity <- c(humidity, result$main$humidity)\n",
    "            wind_speed <- c(wind_speed, result$wind$speed)\n",
    "            wind_deg <- c(wind_deg, result$wind$deg)\n",
    "            forecast_datetime <- c(forecast_datetime, result$dt_txt)\n",
    "            months_forecast <- as.numeric(format(as.Date(forecast_datetime), \"%m\"))\n",
    "            indx <- setNames(rep(c(\"Winter\",\"Spring\", \"Summer\", \"Fall\"), each=3), c(12, 1:11))\n",
    "            season <- unname(indx[as.character(months_forecast)])\n",
    "        }\n",
    "        \n",
    "        # Add the R Lists into a data frame\n",
    "        df <- data.frame(city, weather, visibility, temp, temp_min, temp_max, pressure, humidity, wind_speed, \n",
    "                         wind_deg, forecast_datetime, season)\n",
    "\n",
    "    }\n",
    "    \n",
    "    # Return a data frame\n",
    "    return(df)\n",
    "}\n"
   ]
  },
  {
   "cell_type": "markdown",
   "metadata": {},
   "source": [
    "Complete and call `get_weather_forecaset_by_cities` function with a list of cities, and write the data frame into a csv file called `cities_weather_forecast.csv`\n"
   ]
  },
  {
   "cell_type": "code",
   "execution_count": 45,
   "metadata": {},
   "outputs": [
    {
     "name": "stdout",
     "output_type": "stream",
     "text": [
      "Response [https://api.openweathermap.org/data/2.5/forecast?q=Seoul&appid=147101b3239a9289dc17ee40f789b7b8&units=metric]\n",
      "  Date: 2022-02-06 23:20\n",
      "  Status: 200\n",
      "  Content-Type: application/json; charset=utf-8\n",
      "  Size: 15.8 kB\n",
      "\n",
      "Response [https://api.openweathermap.org/data/2.5/forecast?q=Washington%2C%20D.C.&appid=147101b3239a9289dc17ee40f789b7b8&units=metric]\n",
      "  Date: 2022-02-06 23:20\n",
      "  Status: 200\n",
      "  Content-Type: application/json; charset=utf-8\n",
      "  Size: 15.7 kB\n",
      "\n",
      "Response [https://api.openweathermap.org/data/2.5/forecast?q=Paris&appid=147101b3239a9289dc17ee40f789b7b8&units=metric]\n",
      "  Date: 2022-02-06 23:20\n",
      "  Status: 200\n",
      "  Content-Type: application/json; charset=utf-8\n",
      "  Size: 15.8 kB\n",
      "\n",
      "Response [https://api.openweathermap.org/data/2.5/forecast?q=Suzhou&appid=147101b3239a9289dc17ee40f789b7b8&units=metric]\n",
      "  Date: 2022-02-06 23:20\n",
      "  Status: 200\n",
      "  Content-Type: application/json; charset=utf-8\n",
      "  Size: 16.1 kB\n",
      "\n"
     ]
    }
   ],
   "source": [
    "cities <- c(\"Seoul\", \"Washington, D.C.\", \"Paris\", \"Suzhou\")\n",
    "cities_weather_df <- get_weather_forecaset_by_cities(cities)\n",
    "#cities_weather_df"
   ]
  },
  {
   "cell_type": "code",
   "execution_count": 46,
   "metadata": {},
   "outputs": [
    {
     "data": {
      "text/html": [
       "<table class=\"dataframe\">\n",
       "<caption>A data.frame: 160 × 12</caption>\n",
       "<thead>\n",
       "\t<tr><th scope=col>city</th><th scope=col>weather</th><th scope=col>visibility</th><th scope=col>temp</th><th scope=col>temp_min</th><th scope=col>temp_max</th><th scope=col>pressure</th><th scope=col>humidity</th><th scope=col>wind_speed</th><th scope=col>wind_deg</th><th scope=col>forecast_datetime</th><th scope=col>season</th></tr>\n",
       "\t<tr><th scope=col>&lt;fct&gt;</th><th scope=col>&lt;fct&gt;</th><th scope=col>&lt;int&gt;</th><th scope=col>&lt;dbl&gt;</th><th scope=col>&lt;dbl&gt;</th><th scope=col>&lt;dbl&gt;</th><th scope=col>&lt;int&gt;</th><th scope=col>&lt;int&gt;</th><th scope=col>&lt;dbl&gt;</th><th scope=col>&lt;int&gt;</th><th scope=col>&lt;fct&gt;</th><th scope=col>&lt;fct&gt;</th></tr>\n",
       "</thead>\n",
       "<tbody>\n",
       "\t<tr><td>Seoul</td><td>Clouds</td><td>10000</td><td>-10.47</td><td>-10.47</td><td>-4.11</td><td>1029</td><td>44</td><td>1.11</td><td>323</td><td>2022-02-07 00:00:00</td><td>Winter</td></tr>\n",
       "\t<tr><td>Seoul</td><td>Clouds</td><td>10000</td><td> -7.38</td><td> -7.38</td><td>-1.20</td><td>1029</td><td>40</td><td>2.69</td><td>315</td><td>2022-02-07 03:00:00</td><td>Winter</td></tr>\n",
       "\t<tr><td>Seoul</td><td>Clouds</td><td>10000</td><td> -3.54</td><td> -3.54</td><td>-0.07</td><td>1028</td><td>35</td><td>3.73</td><td>306</td><td>2022-02-07 06:00:00</td><td>Winter</td></tr>\n",
       "\t<tr><td>Seoul</td><td>Clouds</td><td>10000</td><td> -0.64</td><td> -0.64</td><td>-0.64</td><td>1028</td><td>39</td><td>2.85</td><td>317</td><td>2022-02-07 09:00:00</td><td>Winter</td></tr>\n",
       "\t<tr><td>Seoul</td><td>Clouds</td><td>10000</td><td> -1.09</td><td> -1.09</td><td>-1.09</td><td>1029</td><td>44</td><td>1.50</td><td>311</td><td>2022-02-07 12:00:00</td><td>Winter</td></tr>\n",
       "\t<tr><td>Seoul</td><td>Clouds</td><td>10000</td><td> -1.72</td><td> -1.72</td><td>-1.72</td><td>1028</td><td>47</td><td>1.43</td><td>303</td><td>2022-02-07 15:00:00</td><td>Winter</td></tr>\n",
       "\t<tr><td>Seoul</td><td>Clouds</td><td>10000</td><td> -2.58</td><td> -2.58</td><td>-2.58</td><td>1028</td><td>47</td><td>1.01</td><td>282</td><td>2022-02-07 18:00:00</td><td>Winter</td></tr>\n",
       "\t<tr><td>Seoul</td><td>Clouds</td><td>10000</td><td> -3.37</td><td> -3.37</td><td>-3.37</td><td>1028</td><td>45</td><td>0.80</td><td>300</td><td>2022-02-07 21:00:00</td><td>Winter</td></tr>\n",
       "\t<tr><td>Seoul</td><td>Clouds</td><td>10000</td><td> -2.74</td><td> -2.74</td><td>-2.74</td><td>1029</td><td>40</td><td>0.70</td><td>303</td><td>2022-02-08 00:00:00</td><td>Winter</td></tr>\n",
       "\t<tr><td>Seoul</td><td>Clouds</td><td>10000</td><td>  0.10</td><td>  0.10</td><td> 0.10</td><td>1030</td><td>28</td><td>1.83</td><td>305</td><td>2022-02-08 03:00:00</td><td>Winter</td></tr>\n",
       "\t<tr><td>Seoul</td><td>Clouds</td><td>10000</td><td>  1.42</td><td>  1.42</td><td> 1.42</td><td>1028</td><td>26</td><td>2.11</td><td>322</td><td>2022-02-08 06:00:00</td><td>Winter</td></tr>\n",
       "\t<tr><td>Seoul</td><td>Clear </td><td>10000</td><td>  0.25</td><td>  0.25</td><td> 0.25</td><td>1028</td><td>33</td><td>1.55</td><td>294</td><td>2022-02-08 09:00:00</td><td>Winter</td></tr>\n",
       "\t<tr><td>Seoul</td><td>Clouds</td><td>10000</td><td> -0.31</td><td> -0.31</td><td>-0.31</td><td>1029</td><td>37</td><td>0.67</td><td>305</td><td>2022-02-08 12:00:00</td><td>Winter</td></tr>\n",
       "\t<tr><td>Seoul</td><td>Clouds</td><td>10000</td><td> -0.58</td><td> -0.58</td><td>-0.58</td><td>1029</td><td>39</td><td>0.57</td><td>272</td><td>2022-02-08 15:00:00</td><td>Winter</td></tr>\n",
       "\t<tr><td>Seoul</td><td>Clouds</td><td>10000</td><td> -0.86</td><td> -0.86</td><td>-0.86</td><td>1029</td><td>39</td><td>0.25</td><td> 41</td><td>2022-02-08 18:00:00</td><td>Winter</td></tr>\n",
       "\t<tr><td>Seoul</td><td>Clouds</td><td>10000</td><td> -1.26</td><td> -1.26</td><td>-1.26</td><td>1028</td><td>39</td><td>0.55</td><td> 51</td><td>2022-02-08 21:00:00</td><td>Winter</td></tr>\n",
       "\t<tr><td>Seoul</td><td>Clouds</td><td>10000</td><td> -0.71</td><td> -0.71</td><td>-0.71</td><td>1029</td><td>36</td><td>0.49</td><td> 96</td><td>2022-02-09 00:00:00</td><td>Winter</td></tr>\n",
       "\t<tr><td>Seoul</td><td>Clouds</td><td>10000</td><td>  1.11</td><td>  1.11</td><td> 1.11</td><td>1028</td><td>30</td><td>0.40</td><td>313</td><td>2022-02-09 03:00:00</td><td>Winter</td></tr>\n",
       "\t<tr><td>Seoul</td><td>Clouds</td><td>10000</td><td>  2.15</td><td>  2.15</td><td> 2.15</td><td>1026</td><td>28</td><td>1.16</td><td>315</td><td>2022-02-09 06:00:00</td><td>Winter</td></tr>\n",
       "\t<tr><td>Seoul</td><td>Clouds</td><td>10000</td><td>  0.90</td><td>  0.90</td><td> 0.90</td><td>1026</td><td>33</td><td>0.92</td><td>304</td><td>2022-02-09 09:00:00</td><td>Winter</td></tr>\n",
       "\t<tr><td>Seoul</td><td>Clouds</td><td>10000</td><td>  0.11</td><td>  0.11</td><td> 0.11</td><td>1026</td><td>37</td><td>0.70</td><td>304</td><td>2022-02-09 12:00:00</td><td>Winter</td></tr>\n",
       "\t<tr><td>Seoul</td><td>Clouds</td><td>10000</td><td> -0.21</td><td> -0.21</td><td>-0.21</td><td>1026</td><td>40</td><td>1.02</td><td>324</td><td>2022-02-09 15:00:00</td><td>Winter</td></tr>\n",
       "\t<tr><td>Seoul</td><td>Clouds</td><td>10000</td><td> -0.52</td><td> -0.52</td><td>-0.52</td><td>1025</td><td>43</td><td>0.92</td><td>326</td><td>2022-02-09 18:00:00</td><td>Winter</td></tr>\n",
       "\t<tr><td>Seoul</td><td>Clouds</td><td>10000</td><td> -0.88</td><td> -0.88</td><td>-0.88</td><td>1025</td><td>44</td><td>0.88</td><td>340</td><td>2022-02-09 21:00:00</td><td>Winter</td></tr>\n",
       "\t<tr><td>Seoul</td><td>Clouds</td><td>10000</td><td> -0.15</td><td> -0.15</td><td>-0.15</td><td>1026</td><td>42</td><td>0.54</td><td>355</td><td>2022-02-10 00:00:00</td><td>Winter</td></tr>\n",
       "\t<tr><td>Seoul</td><td>Clear </td><td>10000</td><td>  2.60</td><td>  2.60</td><td> 2.60</td><td>1026</td><td>36</td><td>1.11</td><td>302</td><td>2022-02-10 03:00:00</td><td>Winter</td></tr>\n",
       "\t<tr><td>Seoul</td><td>Clear </td><td>10000</td><td>  4.24</td><td>  4.24</td><td> 4.24</td><td>1024</td><td>34</td><td>2.42</td><td>305</td><td>2022-02-10 06:00:00</td><td>Winter</td></tr>\n",
       "\t<tr><td>Seoul</td><td>Clear </td><td>10000</td><td>  3.16</td><td>  3.16</td><td> 3.16</td><td>1025</td><td>43</td><td>1.45</td><td>289</td><td>2022-02-10 09:00:00</td><td>Winter</td></tr>\n",
       "\t<tr><td>Seoul</td><td>Clear </td><td>10000</td><td>  1.30</td><td>  1.30</td><td> 1.30</td><td>1026</td><td>56</td><td>1.01</td><td>265</td><td>2022-02-10 12:00:00</td><td>Winter</td></tr>\n",
       "\t<tr><td>Seoul</td><td>Clear </td><td>10000</td><td>  0.53</td><td>  0.53</td><td> 0.53</td><td>1026</td><td>63</td><td>0.44</td><td>  6</td><td>2022-02-10 15:00:00</td><td>Winter</td></tr>\n",
       "\t<tr><td>⋮</td><td>⋮</td><td>⋮</td><td>⋮</td><td>⋮</td><td>⋮</td><td>⋮</td><td>⋮</td><td>⋮</td><td>⋮</td><td>⋮</td><td>⋮</td></tr>\n",
       "\t<tr><td>Suzhou</td><td>Clouds</td><td>10000</td><td>6.25</td><td>6.25</td><td>6.25</td><td>1029</td><td>69</td><td>2.39</td><td> 39</td><td>2022-02-08 06:00:00</td><td>Winter</td></tr>\n",
       "\t<tr><td>Suzhou</td><td>Clouds</td><td>10000</td><td>5.39</td><td>5.39</td><td>5.39</td><td>1028</td><td>74</td><td>2.91</td><td> 50</td><td>2022-02-08 09:00:00</td><td>Winter</td></tr>\n",
       "\t<tr><td>Suzhou</td><td>Clouds</td><td>10000</td><td>4.60</td><td>4.60</td><td>4.60</td><td>1029</td><td>79</td><td>3.23</td><td> 67</td><td>2022-02-08 12:00:00</td><td>Winter</td></tr>\n",
       "\t<tr><td>Suzhou</td><td>Clouds</td><td>10000</td><td>3.88</td><td>3.88</td><td>3.88</td><td>1029</td><td>81</td><td>2.56</td><td> 70</td><td>2022-02-08 15:00:00</td><td>Winter</td></tr>\n",
       "\t<tr><td>Suzhou</td><td>Clouds</td><td>10000</td><td>3.76</td><td>3.76</td><td>3.76</td><td>1028</td><td>79</td><td>1.54</td><td> 53</td><td>2022-02-08 18:00:00</td><td>Winter</td></tr>\n",
       "\t<tr><td>Suzhou</td><td>Rain  </td><td>10000</td><td>3.16</td><td>3.16</td><td>3.16</td><td>1026</td><td>88</td><td>3.03</td><td> 70</td><td>2022-02-08 21:00:00</td><td>Winter</td></tr>\n",
       "\t<tr><td>Suzhou</td><td>Rain  </td><td>10000</td><td>3.44</td><td>3.44</td><td>3.44</td><td>1028</td><td>90</td><td>2.79</td><td> 59</td><td>2022-02-09 00:00:00</td><td>Winter</td></tr>\n",
       "\t<tr><td>Suzhou</td><td>Rain  </td><td> 6169</td><td>3.94</td><td>3.94</td><td>3.94</td><td>1028</td><td>93</td><td>2.99</td><td> 67</td><td>2022-02-09 03:00:00</td><td>Winter</td></tr>\n",
       "\t<tr><td>Suzhou</td><td>Rain  </td><td>  325</td><td>4.19</td><td>4.19</td><td>4.19</td><td>1025</td><td>95</td><td>2.44</td><td> 68</td><td>2022-02-09 06:00:00</td><td>Winter</td></tr>\n",
       "\t<tr><td>Suzhou</td><td>Rain  </td><td>10000</td><td>4.17</td><td>4.17</td><td>4.17</td><td>1025</td><td>96</td><td>2.11</td><td> 67</td><td>2022-02-09 09:00:00</td><td>Winter</td></tr>\n",
       "\t<tr><td>Suzhou</td><td>Rain  </td><td>10000</td><td>4.28</td><td>4.28</td><td>4.28</td><td>1027</td><td>93</td><td>1.82</td><td> 83</td><td>2022-02-09 12:00:00</td><td>Winter</td></tr>\n",
       "\t<tr><td>Suzhou</td><td>Rain  </td><td>10000</td><td>4.24</td><td>4.24</td><td>4.24</td><td>1027</td><td>93</td><td>1.15</td><td> 91</td><td>2022-02-09 15:00:00</td><td>Winter</td></tr>\n",
       "\t<tr><td>Suzhou</td><td>Clouds</td><td>10000</td><td>4.24</td><td>4.24</td><td>4.24</td><td>1026</td><td>91</td><td>1.38</td><td> 41</td><td>2022-02-09 18:00:00</td><td>Winter</td></tr>\n",
       "\t<tr><td>Suzhou</td><td>Clouds</td><td>10000</td><td>4.03</td><td>4.03</td><td>4.03</td><td>1026</td><td>90</td><td>1.61</td><td> 43</td><td>2022-02-09 21:00:00</td><td>Winter</td></tr>\n",
       "\t<tr><td>Suzhou</td><td>Clouds</td><td>10000</td><td>4.18</td><td>4.18</td><td>4.18</td><td>1027</td><td>85</td><td>1.59</td><td> 46</td><td>2022-02-10 00:00:00</td><td>Winter</td></tr>\n",
       "\t<tr><td>Suzhou</td><td>Clouds</td><td>10000</td><td>6.51</td><td>6.51</td><td>6.51</td><td>1027</td><td>69</td><td>1.65</td><td> 50</td><td>2022-02-10 03:00:00</td><td>Winter</td></tr>\n",
       "\t<tr><td>Suzhou</td><td>Clouds</td><td>10000</td><td>8.58</td><td>8.58</td><td>8.58</td><td>1024</td><td>60</td><td>1.21</td><td> 22</td><td>2022-02-10 06:00:00</td><td>Winter</td></tr>\n",
       "\t<tr><td>Suzhou</td><td>Clouds</td><td>10000</td><td>7.90</td><td>7.90</td><td>7.90</td><td>1024</td><td>63</td><td>0.87</td><td> 84</td><td>2022-02-10 09:00:00</td><td>Winter</td></tr>\n",
       "\t<tr><td>Suzhou</td><td>Clouds</td><td>10000</td><td>7.12</td><td>7.12</td><td>7.12</td><td>1026</td><td>68</td><td>2.47</td><td>104</td><td>2022-02-10 12:00:00</td><td>Winter</td></tr>\n",
       "\t<tr><td>Suzhou</td><td>Clouds</td><td>10000</td><td>5.23</td><td>5.23</td><td>5.23</td><td>1025</td><td>79</td><td>2.79</td><td>107</td><td>2022-02-10 15:00:00</td><td>Winter</td></tr>\n",
       "\t<tr><td>Suzhou</td><td>Clouds</td><td>10000</td><td>4.61</td><td>4.61</td><td>4.61</td><td>1024</td><td>81</td><td>2.58</td><td> 79</td><td>2022-02-10 18:00:00</td><td>Winter</td></tr>\n",
       "\t<tr><td>Suzhou</td><td>Clouds</td><td>10000</td><td>5.02</td><td>5.02</td><td>5.02</td><td>1024</td><td>80</td><td>2.58</td><td> 72</td><td>2022-02-10 21:00:00</td><td>Winter</td></tr>\n",
       "\t<tr><td>Suzhou</td><td>Clouds</td><td>10000</td><td>5.44</td><td>5.44</td><td>5.44</td><td>1025</td><td>80</td><td>2.72</td><td> 92</td><td>2022-02-11 00:00:00</td><td>Winter</td></tr>\n",
       "\t<tr><td>Suzhou</td><td>Rain  </td><td>10000</td><td>6.22</td><td>6.22</td><td>6.22</td><td>1025</td><td>80</td><td>3.42</td><td> 95</td><td>2022-02-11 03:00:00</td><td>Winter</td></tr>\n",
       "\t<tr><td>Suzhou</td><td>Rain  </td><td>10000</td><td>6.40</td><td>6.40</td><td>6.40</td><td>1023</td><td>80</td><td>3.39</td><td> 80</td><td>2022-02-11 06:00:00</td><td>Winter</td></tr>\n",
       "\t<tr><td>Suzhou</td><td>Rain  </td><td>10000</td><td>5.76</td><td>5.76</td><td>5.76</td><td>1024</td><td>85</td><td>4.29</td><td> 76</td><td>2022-02-11 09:00:00</td><td>Winter</td></tr>\n",
       "\t<tr><td>Suzhou</td><td>Rain  </td><td>10000</td><td>5.39</td><td>5.39</td><td>5.39</td><td>1025</td><td>89</td><td>4.39</td><td> 65</td><td>2022-02-11 12:00:00</td><td>Winter</td></tr>\n",
       "\t<tr><td>Suzhou</td><td>Rain  </td><td>10000</td><td>4.93</td><td>4.93</td><td>4.93</td><td>1025</td><td>92</td><td>4.53</td><td> 55</td><td>2022-02-11 15:00:00</td><td>Winter</td></tr>\n",
       "\t<tr><td>Suzhou</td><td>Rain  </td><td> 6446</td><td>4.35</td><td>4.35</td><td>4.35</td><td>1025</td><td>95</td><td>4.29</td><td> 49</td><td>2022-02-11 18:00:00</td><td>Winter</td></tr>\n",
       "\t<tr><td>Suzhou</td><td>Rain  </td><td> 8323</td><td>4.22</td><td>4.22</td><td>4.22</td><td>1026</td><td>95</td><td>4.15</td><td> 37</td><td>2022-02-11 21:00:00</td><td>Winter</td></tr>\n",
       "</tbody>\n",
       "</table>\n"
      ],
      "text/latex": [
       "A data.frame: 160 × 12\n",
       "\\begin{tabular}{llllllllllll}\n",
       " city & weather & visibility & temp & temp\\_min & temp\\_max & pressure & humidity & wind\\_speed & wind\\_deg & forecast\\_datetime & season\\\\\n",
       " <fct> & <fct> & <int> & <dbl> & <dbl> & <dbl> & <int> & <int> & <dbl> & <int> & <fct> & <fct>\\\\\n",
       "\\hline\n",
       "\t Seoul & Clouds & 10000 & -10.47 & -10.47 & -4.11 & 1029 & 44 & 1.11 & 323 & 2022-02-07 00:00:00 & Winter\\\\\n",
       "\t Seoul & Clouds & 10000 &  -7.38 &  -7.38 & -1.20 & 1029 & 40 & 2.69 & 315 & 2022-02-07 03:00:00 & Winter\\\\\n",
       "\t Seoul & Clouds & 10000 &  -3.54 &  -3.54 & -0.07 & 1028 & 35 & 3.73 & 306 & 2022-02-07 06:00:00 & Winter\\\\\n",
       "\t Seoul & Clouds & 10000 &  -0.64 &  -0.64 & -0.64 & 1028 & 39 & 2.85 & 317 & 2022-02-07 09:00:00 & Winter\\\\\n",
       "\t Seoul & Clouds & 10000 &  -1.09 &  -1.09 & -1.09 & 1029 & 44 & 1.50 & 311 & 2022-02-07 12:00:00 & Winter\\\\\n",
       "\t Seoul & Clouds & 10000 &  -1.72 &  -1.72 & -1.72 & 1028 & 47 & 1.43 & 303 & 2022-02-07 15:00:00 & Winter\\\\\n",
       "\t Seoul & Clouds & 10000 &  -2.58 &  -2.58 & -2.58 & 1028 & 47 & 1.01 & 282 & 2022-02-07 18:00:00 & Winter\\\\\n",
       "\t Seoul & Clouds & 10000 &  -3.37 &  -3.37 & -3.37 & 1028 & 45 & 0.80 & 300 & 2022-02-07 21:00:00 & Winter\\\\\n",
       "\t Seoul & Clouds & 10000 &  -2.74 &  -2.74 & -2.74 & 1029 & 40 & 0.70 & 303 & 2022-02-08 00:00:00 & Winter\\\\\n",
       "\t Seoul & Clouds & 10000 &   0.10 &   0.10 &  0.10 & 1030 & 28 & 1.83 & 305 & 2022-02-08 03:00:00 & Winter\\\\\n",
       "\t Seoul & Clouds & 10000 &   1.42 &   1.42 &  1.42 & 1028 & 26 & 2.11 & 322 & 2022-02-08 06:00:00 & Winter\\\\\n",
       "\t Seoul & Clear  & 10000 &   0.25 &   0.25 &  0.25 & 1028 & 33 & 1.55 & 294 & 2022-02-08 09:00:00 & Winter\\\\\n",
       "\t Seoul & Clouds & 10000 &  -0.31 &  -0.31 & -0.31 & 1029 & 37 & 0.67 & 305 & 2022-02-08 12:00:00 & Winter\\\\\n",
       "\t Seoul & Clouds & 10000 &  -0.58 &  -0.58 & -0.58 & 1029 & 39 & 0.57 & 272 & 2022-02-08 15:00:00 & Winter\\\\\n",
       "\t Seoul & Clouds & 10000 &  -0.86 &  -0.86 & -0.86 & 1029 & 39 & 0.25 &  41 & 2022-02-08 18:00:00 & Winter\\\\\n",
       "\t Seoul & Clouds & 10000 &  -1.26 &  -1.26 & -1.26 & 1028 & 39 & 0.55 &  51 & 2022-02-08 21:00:00 & Winter\\\\\n",
       "\t Seoul & Clouds & 10000 &  -0.71 &  -0.71 & -0.71 & 1029 & 36 & 0.49 &  96 & 2022-02-09 00:00:00 & Winter\\\\\n",
       "\t Seoul & Clouds & 10000 &   1.11 &   1.11 &  1.11 & 1028 & 30 & 0.40 & 313 & 2022-02-09 03:00:00 & Winter\\\\\n",
       "\t Seoul & Clouds & 10000 &   2.15 &   2.15 &  2.15 & 1026 & 28 & 1.16 & 315 & 2022-02-09 06:00:00 & Winter\\\\\n",
       "\t Seoul & Clouds & 10000 &   0.90 &   0.90 &  0.90 & 1026 & 33 & 0.92 & 304 & 2022-02-09 09:00:00 & Winter\\\\\n",
       "\t Seoul & Clouds & 10000 &   0.11 &   0.11 &  0.11 & 1026 & 37 & 0.70 & 304 & 2022-02-09 12:00:00 & Winter\\\\\n",
       "\t Seoul & Clouds & 10000 &  -0.21 &  -0.21 & -0.21 & 1026 & 40 & 1.02 & 324 & 2022-02-09 15:00:00 & Winter\\\\\n",
       "\t Seoul & Clouds & 10000 &  -0.52 &  -0.52 & -0.52 & 1025 & 43 & 0.92 & 326 & 2022-02-09 18:00:00 & Winter\\\\\n",
       "\t Seoul & Clouds & 10000 &  -0.88 &  -0.88 & -0.88 & 1025 & 44 & 0.88 & 340 & 2022-02-09 21:00:00 & Winter\\\\\n",
       "\t Seoul & Clouds & 10000 &  -0.15 &  -0.15 & -0.15 & 1026 & 42 & 0.54 & 355 & 2022-02-10 00:00:00 & Winter\\\\\n",
       "\t Seoul & Clear  & 10000 &   2.60 &   2.60 &  2.60 & 1026 & 36 & 1.11 & 302 & 2022-02-10 03:00:00 & Winter\\\\\n",
       "\t Seoul & Clear  & 10000 &   4.24 &   4.24 &  4.24 & 1024 & 34 & 2.42 & 305 & 2022-02-10 06:00:00 & Winter\\\\\n",
       "\t Seoul & Clear  & 10000 &   3.16 &   3.16 &  3.16 & 1025 & 43 & 1.45 & 289 & 2022-02-10 09:00:00 & Winter\\\\\n",
       "\t Seoul & Clear  & 10000 &   1.30 &   1.30 &  1.30 & 1026 & 56 & 1.01 & 265 & 2022-02-10 12:00:00 & Winter\\\\\n",
       "\t Seoul & Clear  & 10000 &   0.53 &   0.53 &  0.53 & 1026 & 63 & 0.44 &   6 & 2022-02-10 15:00:00 & Winter\\\\\n",
       "\t ⋮ & ⋮ & ⋮ & ⋮ & ⋮ & ⋮ & ⋮ & ⋮ & ⋮ & ⋮ & ⋮ & ⋮\\\\\n",
       "\t Suzhou & Clouds & 10000 & 6.25 & 6.25 & 6.25 & 1029 & 69 & 2.39 &  39 & 2022-02-08 06:00:00 & Winter\\\\\n",
       "\t Suzhou & Clouds & 10000 & 5.39 & 5.39 & 5.39 & 1028 & 74 & 2.91 &  50 & 2022-02-08 09:00:00 & Winter\\\\\n",
       "\t Suzhou & Clouds & 10000 & 4.60 & 4.60 & 4.60 & 1029 & 79 & 3.23 &  67 & 2022-02-08 12:00:00 & Winter\\\\\n",
       "\t Suzhou & Clouds & 10000 & 3.88 & 3.88 & 3.88 & 1029 & 81 & 2.56 &  70 & 2022-02-08 15:00:00 & Winter\\\\\n",
       "\t Suzhou & Clouds & 10000 & 3.76 & 3.76 & 3.76 & 1028 & 79 & 1.54 &  53 & 2022-02-08 18:00:00 & Winter\\\\\n",
       "\t Suzhou & Rain   & 10000 & 3.16 & 3.16 & 3.16 & 1026 & 88 & 3.03 &  70 & 2022-02-08 21:00:00 & Winter\\\\\n",
       "\t Suzhou & Rain   & 10000 & 3.44 & 3.44 & 3.44 & 1028 & 90 & 2.79 &  59 & 2022-02-09 00:00:00 & Winter\\\\\n",
       "\t Suzhou & Rain   &  6169 & 3.94 & 3.94 & 3.94 & 1028 & 93 & 2.99 &  67 & 2022-02-09 03:00:00 & Winter\\\\\n",
       "\t Suzhou & Rain   &   325 & 4.19 & 4.19 & 4.19 & 1025 & 95 & 2.44 &  68 & 2022-02-09 06:00:00 & Winter\\\\\n",
       "\t Suzhou & Rain   & 10000 & 4.17 & 4.17 & 4.17 & 1025 & 96 & 2.11 &  67 & 2022-02-09 09:00:00 & Winter\\\\\n",
       "\t Suzhou & Rain   & 10000 & 4.28 & 4.28 & 4.28 & 1027 & 93 & 1.82 &  83 & 2022-02-09 12:00:00 & Winter\\\\\n",
       "\t Suzhou & Rain   & 10000 & 4.24 & 4.24 & 4.24 & 1027 & 93 & 1.15 &  91 & 2022-02-09 15:00:00 & Winter\\\\\n",
       "\t Suzhou & Clouds & 10000 & 4.24 & 4.24 & 4.24 & 1026 & 91 & 1.38 &  41 & 2022-02-09 18:00:00 & Winter\\\\\n",
       "\t Suzhou & Clouds & 10000 & 4.03 & 4.03 & 4.03 & 1026 & 90 & 1.61 &  43 & 2022-02-09 21:00:00 & Winter\\\\\n",
       "\t Suzhou & Clouds & 10000 & 4.18 & 4.18 & 4.18 & 1027 & 85 & 1.59 &  46 & 2022-02-10 00:00:00 & Winter\\\\\n",
       "\t Suzhou & Clouds & 10000 & 6.51 & 6.51 & 6.51 & 1027 & 69 & 1.65 &  50 & 2022-02-10 03:00:00 & Winter\\\\\n",
       "\t Suzhou & Clouds & 10000 & 8.58 & 8.58 & 8.58 & 1024 & 60 & 1.21 &  22 & 2022-02-10 06:00:00 & Winter\\\\\n",
       "\t Suzhou & Clouds & 10000 & 7.90 & 7.90 & 7.90 & 1024 & 63 & 0.87 &  84 & 2022-02-10 09:00:00 & Winter\\\\\n",
       "\t Suzhou & Clouds & 10000 & 7.12 & 7.12 & 7.12 & 1026 & 68 & 2.47 & 104 & 2022-02-10 12:00:00 & Winter\\\\\n",
       "\t Suzhou & Clouds & 10000 & 5.23 & 5.23 & 5.23 & 1025 & 79 & 2.79 & 107 & 2022-02-10 15:00:00 & Winter\\\\\n",
       "\t Suzhou & Clouds & 10000 & 4.61 & 4.61 & 4.61 & 1024 & 81 & 2.58 &  79 & 2022-02-10 18:00:00 & Winter\\\\\n",
       "\t Suzhou & Clouds & 10000 & 5.02 & 5.02 & 5.02 & 1024 & 80 & 2.58 &  72 & 2022-02-10 21:00:00 & Winter\\\\\n",
       "\t Suzhou & Clouds & 10000 & 5.44 & 5.44 & 5.44 & 1025 & 80 & 2.72 &  92 & 2022-02-11 00:00:00 & Winter\\\\\n",
       "\t Suzhou & Rain   & 10000 & 6.22 & 6.22 & 6.22 & 1025 & 80 & 3.42 &  95 & 2022-02-11 03:00:00 & Winter\\\\\n",
       "\t Suzhou & Rain   & 10000 & 6.40 & 6.40 & 6.40 & 1023 & 80 & 3.39 &  80 & 2022-02-11 06:00:00 & Winter\\\\\n",
       "\t Suzhou & Rain   & 10000 & 5.76 & 5.76 & 5.76 & 1024 & 85 & 4.29 &  76 & 2022-02-11 09:00:00 & Winter\\\\\n",
       "\t Suzhou & Rain   & 10000 & 5.39 & 5.39 & 5.39 & 1025 & 89 & 4.39 &  65 & 2022-02-11 12:00:00 & Winter\\\\\n",
       "\t Suzhou & Rain   & 10000 & 4.93 & 4.93 & 4.93 & 1025 & 92 & 4.53 &  55 & 2022-02-11 15:00:00 & Winter\\\\\n",
       "\t Suzhou & Rain   &  6446 & 4.35 & 4.35 & 4.35 & 1025 & 95 & 4.29 &  49 & 2022-02-11 18:00:00 & Winter\\\\\n",
       "\t Suzhou & Rain   &  8323 & 4.22 & 4.22 & 4.22 & 1026 & 95 & 4.15 &  37 & 2022-02-11 21:00:00 & Winter\\\\\n",
       "\\end{tabular}\n"
      ],
      "text/markdown": [
       "\n",
       "A data.frame: 160 × 12\n",
       "\n",
       "| city &lt;fct&gt; | weather &lt;fct&gt; | visibility &lt;int&gt; | temp &lt;dbl&gt; | temp_min &lt;dbl&gt; | temp_max &lt;dbl&gt; | pressure &lt;int&gt; | humidity &lt;int&gt; | wind_speed &lt;dbl&gt; | wind_deg &lt;int&gt; | forecast_datetime &lt;fct&gt; | season &lt;fct&gt; |\n",
       "|---|---|---|---|---|---|---|---|---|---|---|---|\n",
       "| Seoul | Clouds | 10000 | -10.47 | -10.47 | -4.11 | 1029 | 44 | 1.11 | 323 | 2022-02-07 00:00:00 | Winter |\n",
       "| Seoul | Clouds | 10000 |  -7.38 |  -7.38 | -1.20 | 1029 | 40 | 2.69 | 315 | 2022-02-07 03:00:00 | Winter |\n",
       "| Seoul | Clouds | 10000 |  -3.54 |  -3.54 | -0.07 | 1028 | 35 | 3.73 | 306 | 2022-02-07 06:00:00 | Winter |\n",
       "| Seoul | Clouds | 10000 |  -0.64 |  -0.64 | -0.64 | 1028 | 39 | 2.85 | 317 | 2022-02-07 09:00:00 | Winter |\n",
       "| Seoul | Clouds | 10000 |  -1.09 |  -1.09 | -1.09 | 1029 | 44 | 1.50 | 311 | 2022-02-07 12:00:00 | Winter |\n",
       "| Seoul | Clouds | 10000 |  -1.72 |  -1.72 | -1.72 | 1028 | 47 | 1.43 | 303 | 2022-02-07 15:00:00 | Winter |\n",
       "| Seoul | Clouds | 10000 |  -2.58 |  -2.58 | -2.58 | 1028 | 47 | 1.01 | 282 | 2022-02-07 18:00:00 | Winter |\n",
       "| Seoul | Clouds | 10000 |  -3.37 |  -3.37 | -3.37 | 1028 | 45 | 0.80 | 300 | 2022-02-07 21:00:00 | Winter |\n",
       "| Seoul | Clouds | 10000 |  -2.74 |  -2.74 | -2.74 | 1029 | 40 | 0.70 | 303 | 2022-02-08 00:00:00 | Winter |\n",
       "| Seoul | Clouds | 10000 |   0.10 |   0.10 |  0.10 | 1030 | 28 | 1.83 | 305 | 2022-02-08 03:00:00 | Winter |\n",
       "| Seoul | Clouds | 10000 |   1.42 |   1.42 |  1.42 | 1028 | 26 | 2.11 | 322 | 2022-02-08 06:00:00 | Winter |\n",
       "| Seoul | Clear  | 10000 |   0.25 |   0.25 |  0.25 | 1028 | 33 | 1.55 | 294 | 2022-02-08 09:00:00 | Winter |\n",
       "| Seoul | Clouds | 10000 |  -0.31 |  -0.31 | -0.31 | 1029 | 37 | 0.67 | 305 | 2022-02-08 12:00:00 | Winter |\n",
       "| Seoul | Clouds | 10000 |  -0.58 |  -0.58 | -0.58 | 1029 | 39 | 0.57 | 272 | 2022-02-08 15:00:00 | Winter |\n",
       "| Seoul | Clouds | 10000 |  -0.86 |  -0.86 | -0.86 | 1029 | 39 | 0.25 |  41 | 2022-02-08 18:00:00 | Winter |\n",
       "| Seoul | Clouds | 10000 |  -1.26 |  -1.26 | -1.26 | 1028 | 39 | 0.55 |  51 | 2022-02-08 21:00:00 | Winter |\n",
       "| Seoul | Clouds | 10000 |  -0.71 |  -0.71 | -0.71 | 1029 | 36 | 0.49 |  96 | 2022-02-09 00:00:00 | Winter |\n",
       "| Seoul | Clouds | 10000 |   1.11 |   1.11 |  1.11 | 1028 | 30 | 0.40 | 313 | 2022-02-09 03:00:00 | Winter |\n",
       "| Seoul | Clouds | 10000 |   2.15 |   2.15 |  2.15 | 1026 | 28 | 1.16 | 315 | 2022-02-09 06:00:00 | Winter |\n",
       "| Seoul | Clouds | 10000 |   0.90 |   0.90 |  0.90 | 1026 | 33 | 0.92 | 304 | 2022-02-09 09:00:00 | Winter |\n",
       "| Seoul | Clouds | 10000 |   0.11 |   0.11 |  0.11 | 1026 | 37 | 0.70 | 304 | 2022-02-09 12:00:00 | Winter |\n",
       "| Seoul | Clouds | 10000 |  -0.21 |  -0.21 | -0.21 | 1026 | 40 | 1.02 | 324 | 2022-02-09 15:00:00 | Winter |\n",
       "| Seoul | Clouds | 10000 |  -0.52 |  -0.52 | -0.52 | 1025 | 43 | 0.92 | 326 | 2022-02-09 18:00:00 | Winter |\n",
       "| Seoul | Clouds | 10000 |  -0.88 |  -0.88 | -0.88 | 1025 | 44 | 0.88 | 340 | 2022-02-09 21:00:00 | Winter |\n",
       "| Seoul | Clouds | 10000 |  -0.15 |  -0.15 | -0.15 | 1026 | 42 | 0.54 | 355 | 2022-02-10 00:00:00 | Winter |\n",
       "| Seoul | Clear  | 10000 |   2.60 |   2.60 |  2.60 | 1026 | 36 | 1.11 | 302 | 2022-02-10 03:00:00 | Winter |\n",
       "| Seoul | Clear  | 10000 |   4.24 |   4.24 |  4.24 | 1024 | 34 | 2.42 | 305 | 2022-02-10 06:00:00 | Winter |\n",
       "| Seoul | Clear  | 10000 |   3.16 |   3.16 |  3.16 | 1025 | 43 | 1.45 | 289 | 2022-02-10 09:00:00 | Winter |\n",
       "| Seoul | Clear  | 10000 |   1.30 |   1.30 |  1.30 | 1026 | 56 | 1.01 | 265 | 2022-02-10 12:00:00 | Winter |\n",
       "| Seoul | Clear  | 10000 |   0.53 |   0.53 |  0.53 | 1026 | 63 | 0.44 |   6 | 2022-02-10 15:00:00 | Winter |\n",
       "| ⋮ | ⋮ | ⋮ | ⋮ | ⋮ | ⋮ | ⋮ | ⋮ | ⋮ | ⋮ | ⋮ | ⋮ |\n",
       "| Suzhou | Clouds | 10000 | 6.25 | 6.25 | 6.25 | 1029 | 69 | 2.39 |  39 | 2022-02-08 06:00:00 | Winter |\n",
       "| Suzhou | Clouds | 10000 | 5.39 | 5.39 | 5.39 | 1028 | 74 | 2.91 |  50 | 2022-02-08 09:00:00 | Winter |\n",
       "| Suzhou | Clouds | 10000 | 4.60 | 4.60 | 4.60 | 1029 | 79 | 3.23 |  67 | 2022-02-08 12:00:00 | Winter |\n",
       "| Suzhou | Clouds | 10000 | 3.88 | 3.88 | 3.88 | 1029 | 81 | 2.56 |  70 | 2022-02-08 15:00:00 | Winter |\n",
       "| Suzhou | Clouds | 10000 | 3.76 | 3.76 | 3.76 | 1028 | 79 | 1.54 |  53 | 2022-02-08 18:00:00 | Winter |\n",
       "| Suzhou | Rain   | 10000 | 3.16 | 3.16 | 3.16 | 1026 | 88 | 3.03 |  70 | 2022-02-08 21:00:00 | Winter |\n",
       "| Suzhou | Rain   | 10000 | 3.44 | 3.44 | 3.44 | 1028 | 90 | 2.79 |  59 | 2022-02-09 00:00:00 | Winter |\n",
       "| Suzhou | Rain   |  6169 | 3.94 | 3.94 | 3.94 | 1028 | 93 | 2.99 |  67 | 2022-02-09 03:00:00 | Winter |\n",
       "| Suzhou | Rain   |   325 | 4.19 | 4.19 | 4.19 | 1025 | 95 | 2.44 |  68 | 2022-02-09 06:00:00 | Winter |\n",
       "| Suzhou | Rain   | 10000 | 4.17 | 4.17 | 4.17 | 1025 | 96 | 2.11 |  67 | 2022-02-09 09:00:00 | Winter |\n",
       "| Suzhou | Rain   | 10000 | 4.28 | 4.28 | 4.28 | 1027 | 93 | 1.82 |  83 | 2022-02-09 12:00:00 | Winter |\n",
       "| Suzhou | Rain   | 10000 | 4.24 | 4.24 | 4.24 | 1027 | 93 | 1.15 |  91 | 2022-02-09 15:00:00 | Winter |\n",
       "| Suzhou | Clouds | 10000 | 4.24 | 4.24 | 4.24 | 1026 | 91 | 1.38 |  41 | 2022-02-09 18:00:00 | Winter |\n",
       "| Suzhou | Clouds | 10000 | 4.03 | 4.03 | 4.03 | 1026 | 90 | 1.61 |  43 | 2022-02-09 21:00:00 | Winter |\n",
       "| Suzhou | Clouds | 10000 | 4.18 | 4.18 | 4.18 | 1027 | 85 | 1.59 |  46 | 2022-02-10 00:00:00 | Winter |\n",
       "| Suzhou | Clouds | 10000 | 6.51 | 6.51 | 6.51 | 1027 | 69 | 1.65 |  50 | 2022-02-10 03:00:00 | Winter |\n",
       "| Suzhou | Clouds | 10000 | 8.58 | 8.58 | 8.58 | 1024 | 60 | 1.21 |  22 | 2022-02-10 06:00:00 | Winter |\n",
       "| Suzhou | Clouds | 10000 | 7.90 | 7.90 | 7.90 | 1024 | 63 | 0.87 |  84 | 2022-02-10 09:00:00 | Winter |\n",
       "| Suzhou | Clouds | 10000 | 7.12 | 7.12 | 7.12 | 1026 | 68 | 2.47 | 104 | 2022-02-10 12:00:00 | Winter |\n",
       "| Suzhou | Clouds | 10000 | 5.23 | 5.23 | 5.23 | 1025 | 79 | 2.79 | 107 | 2022-02-10 15:00:00 | Winter |\n",
       "| Suzhou | Clouds | 10000 | 4.61 | 4.61 | 4.61 | 1024 | 81 | 2.58 |  79 | 2022-02-10 18:00:00 | Winter |\n",
       "| Suzhou | Clouds | 10000 | 5.02 | 5.02 | 5.02 | 1024 | 80 | 2.58 |  72 | 2022-02-10 21:00:00 | Winter |\n",
       "| Suzhou | Clouds | 10000 | 5.44 | 5.44 | 5.44 | 1025 | 80 | 2.72 |  92 | 2022-02-11 00:00:00 | Winter |\n",
       "| Suzhou | Rain   | 10000 | 6.22 | 6.22 | 6.22 | 1025 | 80 | 3.42 |  95 | 2022-02-11 03:00:00 | Winter |\n",
       "| Suzhou | Rain   | 10000 | 6.40 | 6.40 | 6.40 | 1023 | 80 | 3.39 |  80 | 2022-02-11 06:00:00 | Winter |\n",
       "| Suzhou | Rain   | 10000 | 5.76 | 5.76 | 5.76 | 1024 | 85 | 4.29 |  76 | 2022-02-11 09:00:00 | Winter |\n",
       "| Suzhou | Rain   | 10000 | 5.39 | 5.39 | 5.39 | 1025 | 89 | 4.39 |  65 | 2022-02-11 12:00:00 | Winter |\n",
       "| Suzhou | Rain   | 10000 | 4.93 | 4.93 | 4.93 | 1025 | 92 | 4.53 |  55 | 2022-02-11 15:00:00 | Winter |\n",
       "| Suzhou | Rain   |  6446 | 4.35 | 4.35 | 4.35 | 1025 | 95 | 4.29 |  49 | 2022-02-11 18:00:00 | Winter |\n",
       "| Suzhou | Rain   |  8323 | 4.22 | 4.22 | 4.22 | 1026 | 95 | 4.15 |  37 | 2022-02-11 21:00:00 | Winter |\n",
       "\n"
      ],
      "text/plain": [
       "    city   weather visibility temp   temp_min temp_max pressure humidity\n",
       "1   Seoul  Clouds  10000      -10.47 -10.47   -4.11    1029     44      \n",
       "2   Seoul  Clouds  10000       -7.38  -7.38   -1.20    1029     40      \n",
       "3   Seoul  Clouds  10000       -3.54  -3.54   -0.07    1028     35      \n",
       "4   Seoul  Clouds  10000       -0.64  -0.64   -0.64    1028     39      \n",
       "5   Seoul  Clouds  10000       -1.09  -1.09   -1.09    1029     44      \n",
       "6   Seoul  Clouds  10000       -1.72  -1.72   -1.72    1028     47      \n",
       "7   Seoul  Clouds  10000       -2.58  -2.58   -2.58    1028     47      \n",
       "8   Seoul  Clouds  10000       -3.37  -3.37   -3.37    1028     45      \n",
       "9   Seoul  Clouds  10000       -2.74  -2.74   -2.74    1029     40      \n",
       "10  Seoul  Clouds  10000        0.10   0.10    0.10    1030     28      \n",
       "11  Seoul  Clouds  10000        1.42   1.42    1.42    1028     26      \n",
       "12  Seoul  Clear   10000        0.25   0.25    0.25    1028     33      \n",
       "13  Seoul  Clouds  10000       -0.31  -0.31   -0.31    1029     37      \n",
       "14  Seoul  Clouds  10000       -0.58  -0.58   -0.58    1029     39      \n",
       "15  Seoul  Clouds  10000       -0.86  -0.86   -0.86    1029     39      \n",
       "16  Seoul  Clouds  10000       -1.26  -1.26   -1.26    1028     39      \n",
       "17  Seoul  Clouds  10000       -0.71  -0.71   -0.71    1029     36      \n",
       "18  Seoul  Clouds  10000        1.11   1.11    1.11    1028     30      \n",
       "19  Seoul  Clouds  10000        2.15   2.15    2.15    1026     28      \n",
       "20  Seoul  Clouds  10000        0.90   0.90    0.90    1026     33      \n",
       "21  Seoul  Clouds  10000        0.11   0.11    0.11    1026     37      \n",
       "22  Seoul  Clouds  10000       -0.21  -0.21   -0.21    1026     40      \n",
       "23  Seoul  Clouds  10000       -0.52  -0.52   -0.52    1025     43      \n",
       "24  Seoul  Clouds  10000       -0.88  -0.88   -0.88    1025     44      \n",
       "25  Seoul  Clouds  10000       -0.15  -0.15   -0.15    1026     42      \n",
       "26  Seoul  Clear   10000        2.60   2.60    2.60    1026     36      \n",
       "27  Seoul  Clear   10000        4.24   4.24    4.24    1024     34      \n",
       "28  Seoul  Clear   10000        3.16   3.16    3.16    1025     43      \n",
       "29  Seoul  Clear   10000        1.30   1.30    1.30    1026     56      \n",
       "30  Seoul  Clear   10000        0.53   0.53    0.53    1026     63      \n",
       "⋮   ⋮      ⋮       ⋮          ⋮      ⋮        ⋮        ⋮        ⋮       \n",
       "131 Suzhou Clouds  10000      6.25   6.25     6.25     1029     69      \n",
       "132 Suzhou Clouds  10000      5.39   5.39     5.39     1028     74      \n",
       "133 Suzhou Clouds  10000      4.60   4.60     4.60     1029     79      \n",
       "134 Suzhou Clouds  10000      3.88   3.88     3.88     1029     81      \n",
       "135 Suzhou Clouds  10000      3.76   3.76     3.76     1028     79      \n",
       "136 Suzhou Rain    10000      3.16   3.16     3.16     1026     88      \n",
       "137 Suzhou Rain    10000      3.44   3.44     3.44     1028     90      \n",
       "138 Suzhou Rain     6169      3.94   3.94     3.94     1028     93      \n",
       "139 Suzhou Rain      325      4.19   4.19     4.19     1025     95      \n",
       "140 Suzhou Rain    10000      4.17   4.17     4.17     1025     96      \n",
       "141 Suzhou Rain    10000      4.28   4.28     4.28     1027     93      \n",
       "142 Suzhou Rain    10000      4.24   4.24     4.24     1027     93      \n",
       "143 Suzhou Clouds  10000      4.24   4.24     4.24     1026     91      \n",
       "144 Suzhou Clouds  10000      4.03   4.03     4.03     1026     90      \n",
       "145 Suzhou Clouds  10000      4.18   4.18     4.18     1027     85      \n",
       "146 Suzhou Clouds  10000      6.51   6.51     6.51     1027     69      \n",
       "147 Suzhou Clouds  10000      8.58   8.58     8.58     1024     60      \n",
       "148 Suzhou Clouds  10000      7.90   7.90     7.90     1024     63      \n",
       "149 Suzhou Clouds  10000      7.12   7.12     7.12     1026     68      \n",
       "150 Suzhou Clouds  10000      5.23   5.23     5.23     1025     79      \n",
       "151 Suzhou Clouds  10000      4.61   4.61     4.61     1024     81      \n",
       "152 Suzhou Clouds  10000      5.02   5.02     5.02     1024     80      \n",
       "153 Suzhou Clouds  10000      5.44   5.44     5.44     1025     80      \n",
       "154 Suzhou Rain    10000      6.22   6.22     6.22     1025     80      \n",
       "155 Suzhou Rain    10000      6.40   6.40     6.40     1023     80      \n",
       "156 Suzhou Rain    10000      5.76   5.76     5.76     1024     85      \n",
       "157 Suzhou Rain    10000      5.39   5.39     5.39     1025     89      \n",
       "158 Suzhou Rain    10000      4.93   4.93     4.93     1025     92      \n",
       "159 Suzhou Rain     6446      4.35   4.35     4.35     1025     95      \n",
       "160 Suzhou Rain     8323      4.22   4.22     4.22     1026     95      \n",
       "    wind_speed wind_deg forecast_datetime   season\n",
       "1   1.11       323      2022-02-07 00:00:00 Winter\n",
       "2   2.69       315      2022-02-07 03:00:00 Winter\n",
       "3   3.73       306      2022-02-07 06:00:00 Winter\n",
       "4   2.85       317      2022-02-07 09:00:00 Winter\n",
       "5   1.50       311      2022-02-07 12:00:00 Winter\n",
       "6   1.43       303      2022-02-07 15:00:00 Winter\n",
       "7   1.01       282      2022-02-07 18:00:00 Winter\n",
       "8   0.80       300      2022-02-07 21:00:00 Winter\n",
       "9   0.70       303      2022-02-08 00:00:00 Winter\n",
       "10  1.83       305      2022-02-08 03:00:00 Winter\n",
       "11  2.11       322      2022-02-08 06:00:00 Winter\n",
       "12  1.55       294      2022-02-08 09:00:00 Winter\n",
       "13  0.67       305      2022-02-08 12:00:00 Winter\n",
       "14  0.57       272      2022-02-08 15:00:00 Winter\n",
       "15  0.25        41      2022-02-08 18:00:00 Winter\n",
       "16  0.55        51      2022-02-08 21:00:00 Winter\n",
       "17  0.49        96      2022-02-09 00:00:00 Winter\n",
       "18  0.40       313      2022-02-09 03:00:00 Winter\n",
       "19  1.16       315      2022-02-09 06:00:00 Winter\n",
       "20  0.92       304      2022-02-09 09:00:00 Winter\n",
       "21  0.70       304      2022-02-09 12:00:00 Winter\n",
       "22  1.02       324      2022-02-09 15:00:00 Winter\n",
       "23  0.92       326      2022-02-09 18:00:00 Winter\n",
       "24  0.88       340      2022-02-09 21:00:00 Winter\n",
       "25  0.54       355      2022-02-10 00:00:00 Winter\n",
       "26  1.11       302      2022-02-10 03:00:00 Winter\n",
       "27  2.42       305      2022-02-10 06:00:00 Winter\n",
       "28  1.45       289      2022-02-10 09:00:00 Winter\n",
       "29  1.01       265      2022-02-10 12:00:00 Winter\n",
       "30  0.44         6      2022-02-10 15:00:00 Winter\n",
       "⋮   ⋮          ⋮        ⋮                   ⋮     \n",
       "131 2.39        39      2022-02-08 06:00:00 Winter\n",
       "132 2.91        50      2022-02-08 09:00:00 Winter\n",
       "133 3.23        67      2022-02-08 12:00:00 Winter\n",
       "134 2.56        70      2022-02-08 15:00:00 Winter\n",
       "135 1.54        53      2022-02-08 18:00:00 Winter\n",
       "136 3.03        70      2022-02-08 21:00:00 Winter\n",
       "137 2.79        59      2022-02-09 00:00:00 Winter\n",
       "138 2.99        67      2022-02-09 03:00:00 Winter\n",
       "139 2.44        68      2022-02-09 06:00:00 Winter\n",
       "140 2.11        67      2022-02-09 09:00:00 Winter\n",
       "141 1.82        83      2022-02-09 12:00:00 Winter\n",
       "142 1.15        91      2022-02-09 15:00:00 Winter\n",
       "143 1.38        41      2022-02-09 18:00:00 Winter\n",
       "144 1.61        43      2022-02-09 21:00:00 Winter\n",
       "145 1.59        46      2022-02-10 00:00:00 Winter\n",
       "146 1.65        50      2022-02-10 03:00:00 Winter\n",
       "147 1.21        22      2022-02-10 06:00:00 Winter\n",
       "148 0.87        84      2022-02-10 09:00:00 Winter\n",
       "149 2.47       104      2022-02-10 12:00:00 Winter\n",
       "150 2.79       107      2022-02-10 15:00:00 Winter\n",
       "151 2.58        79      2022-02-10 18:00:00 Winter\n",
       "152 2.58        72      2022-02-10 21:00:00 Winter\n",
       "153 2.72        92      2022-02-11 00:00:00 Winter\n",
       "154 3.42        95      2022-02-11 03:00:00 Winter\n",
       "155 3.39        80      2022-02-11 06:00:00 Winter\n",
       "156 4.29        76      2022-02-11 09:00:00 Winter\n",
       "157 4.39        65      2022-02-11 12:00:00 Winter\n",
       "158 4.53        55      2022-02-11 15:00:00 Winter\n",
       "159 4.29        49      2022-02-11 18:00:00 Winter\n",
       "160 4.15        37      2022-02-11 21:00:00 Winter"
      ]
     },
     "metadata": {},
     "output_type": "display_data"
    }
   ],
   "source": [
    "cities_weather_df"
   ]
  },
  {
   "cell_type": "code",
   "execution_count": 47,
   "metadata": {},
   "outputs": [],
   "source": [
    "# Write cities_weather_df to `cities_weather_forecast.csv`\n",
    "write.csv(cities_weather_df, \"cities_weather_forecast.csv\", row.names=FALSE)"
   ]
  },
  {
   "cell_type": "markdown",
   "metadata": {},
   "source": [
    "For more details about HTTP requests with `httr`, please refer to the previous HTTP request notebook here:\n",
    "\n",
    "[HTTP request in R](https://cf-courses-data.s3.us.cloud-object-storage.appdomain.cloud/IBMDeveloperSkillsNetwork-RP0101EN-Coursera/v2/M4\\_Working_With_Data/lab2\\_jupyter_http-request.ipynb)\n"
   ]
  },
  {
   "cell_type": "markdown",
   "metadata": {},
   "source": [
    "## TASK: Download datasets as csv files from cloud storage\n"
   ]
  },
  {
   "cell_type": "markdown",
   "metadata": {},
   "source": [
    "The last task of this lab is straightforward: download some aggregated datasets from cloud storage\n"
   ]
  },
  {
   "cell_type": "code",
   "execution_count": 48,
   "metadata": {},
   "outputs": [],
   "source": [
    "# Download several datasets\n",
    "\n",
    "# Download some general city information such as name and locations\n",
    "url <- \"https://cf-courses-data.s3.us.cloud-object-storage.appdomain.cloud/IBMDeveloperSkillsNetwork-RP0321EN-SkillsNetwork/labs/datasets/raw_worldcities.csv\"\n",
    "# download the file\n",
    "download.file(url, destfile = \"raw_worldcities.csv\")\n",
    "\n",
    "# Download a specific hourly Seoul bike sharing demand dataset\n",
    "url <- \"https://cf-courses-data.s3.us.cloud-object-storage.appdomain.cloud/IBMDeveloperSkillsNetwork-RP0321EN-SkillsNetwork/labs/datasets/raw_seoul_bike_sharing.csv\"\n",
    "# download the file\n",
    "download.file(url, destfile = \"raw_seoul_bike_sharing.csv\")"
   ]
  },
  {
   "cell_type": "markdown",
   "metadata": {},
   "source": [
    "## Next Step\n"
   ]
  },
  {
   "cell_type": "markdown",
   "metadata": {},
   "source": [
    "Now you should collect all datasets required for this project, all in csv format. Feel free to explore them preliminarily now. However, they are the raw datasets and have to be processed for further data visualization or data analysis.\n",
    "\n",
    "In the next module, you will improve their quality by performing data wrangling tasks.\n"
   ]
  },
  {
   "cell_type": "markdown",
   "metadata": {},
   "source": [
    "## Authors\n",
    "\n",
    "<a href=\"https://www.linkedin.com/in/yan-luo-96288783/?utm_medium=Exinfluencer&utm_source=Exinfluencer&utm_content=000026UJ&utm_term=10006555&utm_id=NA-SkillsNetwork-Channel-SkillsNetworkCoursesIBMDeveloperSkillsNetworkRP0321ENSkillsNetwork25371262-2021-01-01\" target=\"_blank\">Yan Luo</a>\n"
   ]
  },
  {
   "cell_type": "markdown",
   "metadata": {},
   "source": [
    "### Other Contributors\n"
   ]
  },
  {
   "cell_type": "markdown",
   "metadata": {},
   "source": [
    "## Change Log\n",
    "\n",
    "| Date (YYYY-MM-DD) | Version | Changed By | Change Description      |\n",
    "| ----------------- | ------- | ---------- | ----------------------- |\n",
    "| 2021-04-05        | 0.1     | Yan        | Initial version created |\n",
    "|                   |         |            |                         |\n",
    "|                   |         |            |                         |\n",
    "\n",
    "## <h3 align=\"center\"> © IBM Corporation 2021. All rights reserved. <h3/>\n"
   ]
  }
 ],
 "metadata": {
  "kernelspec": {
   "display_name": "R",
   "language": "R",
   "name": "ir"
  },
  "language_info": {
   "codemirror_mode": "r",
   "file_extension": ".r",
   "mimetype": "text/x-r-source",
   "name": "R",
   "pygments_lexer": "r",
   "version": "3.6.3"
  }
 },
 "nbformat": 4,
 "nbformat_minor": 4
}
